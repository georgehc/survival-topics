{
 "cells": [
  {
   "cell_type": "markdown",
   "metadata": {},
   "source": [
    "# Reproducing topic heatmaps in the paper for SUPPORT cohorts\n",
    "\n",
    "Authors: Lexie Li, George H. Chen"
   ]
  },
  {
   "cell_type": "code",
   "execution_count": 1,
   "metadata": {},
   "outputs": [],
   "source": [
    "import os, pickle, json, re\n",
    "import numpy as np\n",
    "import pandas as pd\n",
    "import matplotlib.pyplot as plt\n",
    "from matplotlib import colors\n",
    "import seaborn as sb\n",
    "from visualization_utils import *\n",
    "\n",
    "import warnings\n",
    "warnings.filterwarnings('ignore')\n",
    "\n",
    "# %config InlineBackend.figure_format = 'retina'  # if you use a Mac with Retina display"
   ]
  },
  {
   "cell_type": "code",
   "execution_count": 2,
   "metadata": {},
   "outputs": [],
   "source": [
    "output_dir = 'example_output'\n",
    "vis_output_dir = 'plots'\n",
    "experiment_id = \"demo_bootstrap_predictions_explain\""
   ]
  },
  {
   "cell_type": "code",
   "execution_count": 3,
   "metadata": {},
   "outputs": [
    {
     "name": "stdout",
     "output_type": "stream",
     "text": [
      "Topic output loaded: 3 topics, 55 words\n",
      "Beta ['0.000000', '-5.050540', '-5.429789']\n",
      "50\n",
      "Topic output loaded: 3 topics, 56 words\n",
      "Beta ['5.299174', '2.718902', '0.000000']\n",
      "50\n",
      "Topic output loaded: 6 topics, 52 words\n",
      "Beta ['0.630672', '0.108080', '0.000000', '-0.044215', '-0.163038', '-0.234052']\n",
      "45\n",
      "Topic output loaded: 6 topics, 55 words\n",
      "Beta ['0.473673', '0.076055', '0.008764', '0.000000', '-0.000110', '-0.578942']\n",
      "50\n",
      "Topic output loaded: 5 topics, 55 words\n",
      "Beta ['-5.284510', '-4.398158', '0.000000', '4.776512', '4.796636']\n",
      "50\n",
      "Topic output loaded: 2 topics, 56 words\n",
      "Beta ['-0.481518', '0.000000']\n",
      "50\n",
      "Topic output loaded: 2 topics, 52 words\n",
      "Beta ['0.000000', '0.067644']\n",
      "45\n",
      "Topic output loaded: 2 topics, 55 words\n",
      "Beta ['0.000000', '0.155415']\n",
      "50\n",
      "Topic output loaded: 2 topics, 55 words\n",
      "Beta ['0.000000', '-0.786744']\n",
      "50\n",
      "Topic output loaded: 2 topics, 56 words\n",
      "Beta ['0.080212', '0.000000']\n",
      "50\n",
      "Topic output loaded: 6 topics, 52 words\n",
      "Beta ['1.479032', '1.391693', '1.056749', '0.000000', '-2.158264', '-2.369784']\n",
      "45\n",
      "Topic output loaded: 4 topics, 55 words\n",
      "Beta ['0.204147', '0.185600', '0.000000', '-0.159770']\n",
      "50\n",
      "Topic output loaded: 5 topics, 55 words\n",
      "Beta ['-0.527207', '-0.493754', '-0.212435', '0.000000', '0.344088']\n",
      "50\n",
      "Topic output loaded: 2 topics, 56 words\n",
      "Beta ['0.000000', '0.594876']\n",
      "50\n",
      "Topic output loaded: 2 topics, 52 words\n",
      "Beta ['-0.893478', '0.000000']\n",
      "45\n",
      "Topic output loaded: 5 topics, 55 words\n",
      "Beta ['-0.473052', '-0.363484', '-0.172453', '0.000000', '0.062614']\n",
      "50\n"
     ]
    }
   ],
   "source": [
    "# make plots and save them to `vis_output_dir`\n",
    "os.makedirs(vis_output_dir, exist_ok=True)\n",
    "for method in ['scholar_ldacox', 'scholar_ldadraft', 'scholar_sagecox', 'scholar_sagedraft']:\n",
    "    for dataset in ['SUPPORT_ARF_MOSF', 'SUPPORT_COPD_CHF_Cirrhosis', 'SUPPORT_Cancer', 'SUPPORT_Coma']:\n",
    "        for word_ranking in ['max']:\n",
    "            for word_weighting in ['standard']:\n",
    "                plot_topic_heatmaps(dataset, method, experiment_id,\n",
    "                                    os.path.join(output_dir, dataset, method, experiment_id),\n",
    "                                    vis_output_dir=vis_output_dir,\n",
    "                                    word_ranking=word_ranking,\n",
    "                                    word_weighting=word_weighting,\n",
    "                                    use_distributions='sage' not in method,\n",
    "                                    use_AFT=method.endswith('aft'))"
   ]
  }
 ],
 "metadata": {
  "kernelspec": {
   "display_name": "Python 3 (ipykernel)",
   "language": "python",
   "name": "python3"
  },
  "language_info": {
   "codemirror_mode": {
    "name": "ipython",
    "version": 3
   },
   "file_extension": ".py",
   "mimetype": "text/x-python",
   "name": "python",
   "nbconvert_exporter": "python",
   "pygments_lexer": "ipython3",
   "version": "3.11.5"
  }
 },
 "nbformat": 4,
 "nbformat_minor": 2
}
